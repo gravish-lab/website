{
 "cells": [
  {
   "cell_type": "code",
   "execution_count": 1,
   "metadata": {
    "collapsed": true
   },
   "outputs": [],
   "source": [
    "import pandas as pd\n",
    "import json\n",
    "import numpy as np\n",
    "# %qtconsole"
   ]
  },
  {
   "cell_type": "code",
   "execution_count": 10,
   "metadata": {
    "collapsed": false
   },
   "outputs": [],
   "source": [
    "\n",
    "# df = pd.read_csv('papers.csv')\n",
    "df = pd.read_csv('journals.csv')\n",
    "df.sort_values('Year', ascending = False, inplace=True)\n",
    "df = df.replace(np.nan,'', regex=True)\n",
    "\n",
    "# add in extra vars\n",
    "df['PDF'] = ''\n",
    "df['Supplementary'] = ''\n",
    "df['videos'] = ''\n",
    "df['press'] = ''\n",
    "df['link'] = ''\n",
    "df['image'] = ''\n",
    "df['img'] = ''\n",
    "\n",
    "\n",
    "df['Volume'] = df['Volume'].astype(str) \n",
    "df['Number'] = df['Number'].astype(str) \n",
    "df['Year'] = df['Year'].astype(str) \n"
   ]
  },
  {
   "cell_type": "code",
   "execution_count": 130,
   "metadata": {
    "collapsed": false
   },
   "outputs": [
    {
     "name": "stdout",
     "output_type": "stream",
     "text": [
      "Entangled Granular Media\n",
      "Experimental and computational studies of the aerodynamic performance of a flapping and passively rotating insect wing\n",
      "Collective Flow Enhancement by Tandem Flapping Wings\n",
      "Glass-like dynamics in confined and congested ant traffic\n",
      "BEEtag: a low-cost, image-based tracking system for the study of animal behavior and locomotion\n",
      "Behavioral and mechanical determinants of collective subsurface nest excavation\n",
      "Sidewinding with minimal slip: Snake and robot ascent of sandy slopes\n",
      "Effect of volume fraction on granular avalanche dynamics\n",
      "Force and flow at the onset of drag in plowed granular media\n",
      "Climbing, falling, and jamming during ant locomotion in confined environments\n",
      "Effects of worker size on the dynamics of fire ant tunnel construction\n",
      "Entangled granular media\n",
      "Comparative studies reveal principles of movement on and within granular media\n",
      "Soft Matter, Biological, and Interdisciplinary Physics Drag Induced Lift in Granular Media 028001\n",
      "Drag induced lift in granular media\n",
      "Force and flow transition in plowed granular media\n",
      "Utilization of granular solidification during terrestrial locomotion of hatchling sea turtles\n",
      "Rate-dependent frictional adhesion in natural and synthetic gecko setae\n",
      "The crowding model as a tool to understand and fabricate gecko-inspired dry adhesives\n",
      "A microfabricated wedge-shaped adhesive array displaying gecko-like dynamic adhesion, directionality and long lifetime\n",
      "Frictional and elastic energy in gecko adhesive detachment\n",
      "Microscopic Modeling of the Dynamics of Frictional Adhesion in the Gecko Attachment System†\n",
      "High friction from a stiff polymer using microfiber arrays\n"
     ]
    }
   ],
   "source": [
    "\n",
    "for k, item in df.iterrows():\n",
    "    print(item['Title'])\n",
    "\n"
   ]
  },
  {
   "cell_type": "code",
   "execution_count": 12,
   "metadata": {
    "collapsed": false
   },
   "outputs": [],
   "source": [
    "def return_caps(string):\n",
    "    out = []\n",
    "    for s in string:\n",
    "        if s.isupper():\n",
    "            out.append(s)\n",
    "    \n",
    "    return ''.join(out)\n",
    "            \n",
    "\n",
    "\n",
    "for k, item in df.iterrows():\n",
    "    title = item['Title']\n",
    "    year = str(item['Year'])\n",
    "    title = ''.join([k if k is not ' ' else '_' for k in title])\n",
    "    d = item.to_dict()\n",
    "    \n",
    "    \n",
    "    d['date'] = d['Year']\n",
    "    del d['Year']\n",
    "    \n",
    "    \n",
    "    # format the author key name\n",
    "    d['Authors'] = d['\\ufeffAuthors']\n",
    "    del d['\\ufeffAuthors']\n",
    "    \n",
    "    # make a correct list of authors\n",
    "    d['Authors'] = d['Authors'].split(';')[:-1]\n",
    "    \n",
    "    # Caps first name followed by last name\n",
    "    new_auths = []\n",
    "    for auth in d['Authors']:\n",
    "        tmp = auth.split(', ')\n",
    "        new_name = return_caps(tmp[1]).strip(' ') + ' ' + tmp[0].strip(' ')\n",
    "        new_auths.append(new_name)\n",
    "    \n",
    "    d['Authors'] = new_auths\n",
    "    \n",
    "    d['date'] = d['date'] + '-01-01'\n",
    "    \n",
    "    with open('./publications/' + year + '_' + title + '.md', 'w') as savetxt:\n",
    "        json.dump(d, savetxt, indent = 4) \n",
    "    \n",
    "\n",
    "    "
   ]
  },
  {
   "cell_type": "code",
   "execution_count": null,
   "metadata": {
    "collapsed": true
   },
   "outputs": [],
   "source": []
  }
 ],
 "metadata": {
  "kernelspec": {
   "display_name": "Python 3",
   "language": "python",
   "name": "python3"
  },
  "language_info": {
   "codemirror_mode": {
    "name": "ipython",
    "version": 3
   },
   "file_extension": ".py",
   "mimetype": "text/x-python",
   "name": "python",
   "nbconvert_exporter": "python",
   "pygments_lexer": "ipython3",
   "version": "3.4.5"
  }
 },
 "nbformat": 4,
 "nbformat_minor": 0
}
